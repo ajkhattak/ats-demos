{
 "cells": [
  {
   "cell_type": "code",
   "execution_count": 13,
   "metadata": {
    "collapsed": false
   },
   "outputs": [
    {
     "name": "stdout",
     "output_type": "stream",
     "text": [
      "Using matplotlib backend: MacOSX\n"
     ]
    }
   ],
   "source": [
    "import sys,os\n",
    "import matplotlib\n",
    "sys.path.append(os.path.join(os.environ['ATS_SRC_DIR'],'tools', 'utils'))\n",
    "import parse_ats\n",
    "import column_data\n",
    "import colors\n",
    "import numpy as np\n",
    "from matplotlib import pyplot as plt\n",
    "\n",
    "%matplotlib"
   ]
  },
  {
   "cell_type": "code",
   "execution_count": 16,
   "metadata": {
    "collapsed": false
   },
   "outputs": [],
   "source": [
    "def getFigs():\n",
    "    fig,axs = plt.subplots(nrows=3, ncols=2)\n",
    "    axs = axs.reshape((-1,))\n",
    "    return fig,axs\n",
    "\n",
    "# collect data, determine control for plots\n",
    "ranges = [ (1.,2.), (10.,11.),]# (100.,101.)]#, (1000.,1001.) ]\n",
    "clist = [ 'blue', 'green', 'goldenrod', 'red']\n",
    "\n",
    "# create figures\n",
    "fig, axs = getFigs()\n",
    "\n",
    "# get colormap\n",
    "cm = colors.cm_mapper(0., 1.)\n",
    "\n",
    "# plot the temperatures and co2 decomp on the last year\n",
    "keys, times, fid = parse_ats.readATS(time_range=ranges[-1], directory=\"vegetation-spinup.regression.gold\")\n",
    "fid.close()\n",
    "to_get = ['temperature.cell.0', 'co2_decomposition.cell.0']\n",
    "dat = column_data.column_data(to_get, keys, directory=\"vegetation-spinup.regression.gold\")\n",
    "z = dat[0,0,:]\n",
    "\n",
    "# plot the vegetation at each year\n",
    "for c, time_range in zip(clist,ranges):\n",
    "    # surface plots\n",
    "    skeys, stimes, sdat = parse_ats.readATS(base='visdump_surface_data.h5', \n",
    "                                            directory=\"vegetation-spinup.regression.gold\", \n",
    "                                            time_range=time_range)\n",
    "\n",
    "    # convert times to days\n",
    "    times = [(time-time_range[0])*365.25 for time in stimes]\n",
    "\n",
    "    bio_moss = parse_ats.getSurfaceData(skeys, sdat, 'total_biomass.cell.1')\n",
    "    bio_sedge = parse_ats.getSurfaceData(skeys, sdat, 'total_biomass.cell.0')\n",
    "    bioleaf_moss = parse_ats.getSurfaceData(skeys, sdat, 'leaf_biomass.cell.moss')\n",
    "    bioleaf_sedge = parse_ats.getSurfaceData(skeys, sdat, 'leaf_biomass.cell.sedge')\n",
    "    lai_moss = parse_ats.getSurfaceData(skeys, sdat, 'leaf_area_index.cell.1')\n",
    "    lai_sedge = parse_ats.getSurfaceData(skeys, sdat, 'leaf_area_index.cell.0')\n",
    "    et_moss = parse_ats.getSurfaceData(skeys, sdat, 'veg_total_transpiration.cell.1')\n",
    "    et_sedge = parse_ats.getSurfaceData(skeys, sdat, 'veg_total_transpiration.cell.0')\n",
    "    \n",
    "    axs[0].plot(times, bio_moss, color=c, label=\"total, year %d\"%time_range[1])\n",
    "    axs[1].plot(times, bio_sedge, color=c, label=\"total, year %d\"%time_range[1])\n",
    "    axs[0].plot(times, bioleaf_moss, '--', color=c, label=\"leaf, year %d\"%time_range[1])\n",
    "    axs[1].plot(times, bioleaf_sedge, '--', color=c, label=\"leaf, year %d\"%time_range[1])\n",
    "    axs[2].plot(times, lai_moss, color=c, label=\"year %d\"%time_range[1])\n",
    "    axs[3].plot(times, lai_sedge, color=c, label=\"year %d\"%time_range[1])\n",
    "    axs[4].plot(times, et_moss, color=c, label= \"year %d\"%time_range[1])\n",
    "    axs[5].plot(times, et_sedge, color=c, label=\"year %d\"%time_range[1])\n",
    "    sdat.close()\n",
    "\n",
    "axs[0].set_ylabel(\"biomass of moss\")\n",
    "axs[0].set_xlabel(\"time [d]\")\n",
    "axs[1].set_ylabel(\"biomass of sedge\")\n",
    "axs[1].set_xlabel(\"time [d]\")\n",
    "axs[2].set_ylabel(\"LAI of moss\")\n",
    "axs[2].set_xlabel(\"time [d]\")\n",
    "axs[3].set_ylabel(\"LAI of sedge\")\n",
    "axs[3].set_xlabel(\"time [d]\")\n",
    "axs[4].set_ylabel(\"ET of moss(kg H2O/cell/day)\")\n",
    "axs[4].set_xlabel(\"time [d]\")\n",
    "axs[5].set_ylabel(\"ET of sedge(kg H2O/cell/day)\")\n",
    "axs[5].set_xlabel(\"time [d]\")\n",
    "axs[1].legend()\n",
    "axs[0].legend()\n",
    "axs[2].legend()\n",
    "\n",
    "plt.tight_layout()\n",
    "#plt.savefig('soln_temp.pdf')\n",
    "plt.show()\n"
   ]
  },
  {
   "cell_type": "code",
   "execution_count": null,
   "metadata": {
    "collapsed": true
   },
   "outputs": [],
   "source": []
  }
 ],
 "metadata": {
  "anaconda-cloud": {},
  "kernelspec": {
   "display_name": "Python [conda root]",
   "language": "python",
   "name": "conda-root-py"
  },
  "language_info": {
   "codemirror_mode": {
    "name": "ipython",
    "version": 2
   },
   "file_extension": ".py",
   "mimetype": "text/x-python",
   "name": "python",
   "nbconvert_exporter": "python",
   "pygments_lexer": "ipython2",
   "version": "2.7.12"
  }
 },
 "nbformat": 4,
 "nbformat_minor": 1
}
